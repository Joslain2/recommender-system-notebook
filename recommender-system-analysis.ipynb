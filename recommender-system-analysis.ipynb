{
 "cells": [
  {
   "cell_type": "markdown",
   "metadata": {},
   "source": [
    "#  BASIC BOOK RECOMMENDER SYSTEM ANALYSIS\n",
    "\n",
    "By Joslain Mpiana on May 06. 2019"
   ]
  },
  {
   "cell_type": "markdown",
   "metadata": {},
   "source": [
    "Have you ever wondered how Facebook suggests friends to you based on the friends you have already? I would like you keep in mind that behind this scenes there is a complexe statistical algorithm that made these suggestions. Such system are called recommender system. \n",
    "\n",
    "Nowdays Recommender systems are among the most popular applications of data science. They are used for predicting the \"rating\" or \"preference\" that a user would give to an item. Almost every major tech company has applied them in some form or the other: YouTube uses it to decide which video to play next on autoplay, Facebook uses it to recommend pages to like and people to follow, Amazon uses it to suggest products to customers,...\n",
    "\n",
    "The aim of this project is to build a book recommender system. In order to make sure that such project may be feasible, standard datasets are required to develop, explore, and familiarize with how to develop recommender systems.\n",
    "\n",
    "In this project, we will discover the book-crossing dataset and how to prepare the data for modeling a basic recommender system. Algorithms for making recommendations require data to be prepared and structured in some ways. Leading by the idea of vector space model, we will find out means to analyse, explore and organise our data set in order the get  appropriate matrices according to each machine learning algorithm logic.\n",
    "\n",
    "In order to reach the goal, different analysis will be performed on the data in order to obtain a reliable data distribution because the performances of the prediction algorithms depend on it.\n",
    "\n",
    "\n",
    "\n",
    "\n",
    "\n",
    "After completing this project, we will know :\n",
    "\n",
    "- About the book-crossing dataset that is composed of three tables\n",
    "- How to load and prepare data for visualisation\n",
    "- How to make recommendations using the pearson's correlation and k-nearest neighbour algorithms\n"
   ]
  },
  {
   "cell_type": "markdown",
   "metadata": {},
   "source": [
    "# Project overview\n",
    "\n",
    "1. Book-crossing dataset\n",
    "2. load dataset into memory\n",
    "3. Data Visualisation\n",
    "4. Recommendation based on correlation\n",
    "5. Recommendation based on collaboration filtering using Using k-Nearest Neighbors machine learning algorithm \n"
   ]
  },
  {
   "cell_type": "markdown",
   "metadata": {},
   "source": [
    "# Book-crossing dataset\n",
    "\n",
    "The Book-crossing is a standard dataset collected by Cai-Nicolas Ziegler, for implementing recommender systems algorithms. It contains 1,149,780 ratings of  271,379 books rated by 278,858 users. Note that the ratings are in the interval of 1 to 10. More details on the dataset are given in the following publication : ###### Improving Recommendation Lists Through Topic Diversification ######  Download the data set on the following link: http://www2.informatik.uni-freiburg.de/~cziegler/BX/\n",
    "\n",
    "The dataset is composed of three tables as follow:\n",
    "- BX-users : It contains informations on differents users like ID-User\n",
    "- BX-Books : Notice that books are identified by their ISBN, and some others informations such, Book-title, Book-author, year-of-publication, \n",
    "- BX-Ratings : It contains ID-users which refference the ID-Users from BX-Users, ISBN which reference the one from ISBN, this is very helpfull when merging data from different table.\n",
    "\n"
   ]
  },
  {
   "cell_type": "markdown",
   "metadata": {},
   "source": [
    "\n",
    "# Load data \n",
    "\n",
    "Let’s start off by loading the data files, We are going to use pandas library to load data into memory. To overcome the problem of extra columns we put error_bad_lines=False and warn_bad_lines=False to overcome the warning problem, but it will take a little time while running. For each table from the dataset we read it using the method read_csv from pendas data frame. We rename columns for each table."
   ]
  },
  {
   "cell_type": "code",
   "execution_count": 3,
   "metadata": {
    "collapsed": true
   },
   "outputs": [],
   "source": [
    "\"\"\" This script load the data set and use pandas for future data manipulation\"\"\"\n",
    "import pandas as pd\n",
    "from os import listdir\n",
    "def load_table(directory):\n",
    "    # walk through all files in the folder\n",
    "    for filename in listdir(directory):\n",
    "        # download each file using pandas data frame\n",
    "        if filename == \"BX-Books.csv\":\n",
    "            \n",
    "            books = pd.read_csv('BX-Books.csv', sep=';', error_bad_lines=False, warn_bad_lines=False, encoding=\"latin-1\")\n",
    "             # rename columns\n",
    "            books.columns = ['ISBN', 'bookTitle', 'bookAuthor', 'yearOfPublication', 'publisher', 'imageUrlS', 'imageUrlM', 'imageUrlL']\n",
    "        elif filename =='BX-Book-Ratings.csv':\n",
    "            ratings = pd.read_csv('BX-Book-Ratings.csv', sep=';', error_bad_lines=False, warn_bad_lines=False, encoding=\"latin-1\")\n",
    "            # rename columns\n",
    "            ratings.columns = ['userID', 'ISBN', 'bookRating'] \n",
    "        else:\n",
    "            users = pd.read_csv('BX-Users.csv', sep=';', error_bad_lines=False, warn_bad_lines=False, encoding=\"latin-1\")\n",
    "             # rename columns\n",
    "            users.columns = ['userID', 'Location', 'Age']\n",
    "    return books,ratings,users"
   ]
  },
  {
   "cell_type": "code",
   "execution_count": 4,
   "metadata": {
    "collapsed": false,
    "scrolled": true
   },
   "outputs": [
    {
     "name": "stderr",
     "output_type": "stream",
     "text": [
      "/usr/lib/python3/dist-packages/IPython/core/interactiveshell.py:2821: DtypeWarning: Columns (3) have mixed types. Specify dtype option on import or set low_memory=False.\n",
      "  if self.run_code(code, result):\n"
     ]
    }
   ],
   "source": [
    "# print each table as a pendas dataframe\n",
    "books,ratings,users = load_table('BX-CSV-Dump')\n"
   ]
  },
  {
   "cell_type": "code",
   "execution_count": null,
   "metadata": {
    "collapsed": true
   },
   "outputs": [],
   "source": []
  },
  {
   "cell_type": "markdown",
   "metadata": {},
   "source": [
    "Running this code, the head() method displays an overview of top five rows for each table as follow:\n"
   ]
  },
  {
   "cell_type": "code",
   "execution_count": 8,
   "metadata": {
    "collapsed": false
   },
   "outputs": [
    {
     "data": {
      "text/html": [
       "<div>\n",
       "<table border=\"1\" class=\"dataframe\">\n",
       "  <thead>\n",
       "    <tr style=\"text-align: right;\">\n",
       "      <th></th>\n",
       "      <th>ISBN</th>\n",
       "      <th>bookTitle</th>\n",
       "      <th>bookAuthor</th>\n",
       "      <th>yearOfPublication</th>\n",
       "      <th>publisher</th>\n",
       "      <th>imageUrlS</th>\n",
       "      <th>imageUrlM</th>\n",
       "      <th>imageUrlL</th>\n",
       "    </tr>\n",
       "  </thead>\n",
       "  <tbody>\n",
       "    <tr>\n",
       "      <th>0</th>\n",
       "      <td>0195153448</td>\n",
       "      <td>Classical Mythology</td>\n",
       "      <td>Mark P. O. Morford</td>\n",
       "      <td>2002</td>\n",
       "      <td>Oxford University Press</td>\n",
       "      <td>http://images.amazon.com/images/P/0195153448.0...</td>\n",
       "      <td>http://images.amazon.com/images/P/0195153448.0...</td>\n",
       "      <td>http://images.amazon.com/images/P/0195153448.0...</td>\n",
       "    </tr>\n",
       "    <tr>\n",
       "      <th>1</th>\n",
       "      <td>0002005018</td>\n",
       "      <td>Clara Callan</td>\n",
       "      <td>Richard Bruce Wright</td>\n",
       "      <td>2001</td>\n",
       "      <td>HarperFlamingo Canada</td>\n",
       "      <td>http://images.amazon.com/images/P/0002005018.0...</td>\n",
       "      <td>http://images.amazon.com/images/P/0002005018.0...</td>\n",
       "      <td>http://images.amazon.com/images/P/0002005018.0...</td>\n",
       "    </tr>\n",
       "    <tr>\n",
       "      <th>2</th>\n",
       "      <td>0060973129</td>\n",
       "      <td>Decision in Normandy</td>\n",
       "      <td>Carlo D'Este</td>\n",
       "      <td>1991</td>\n",
       "      <td>HarperPerennial</td>\n",
       "      <td>http://images.amazon.com/images/P/0060973129.0...</td>\n",
       "      <td>http://images.amazon.com/images/P/0060973129.0...</td>\n",
       "      <td>http://images.amazon.com/images/P/0060973129.0...</td>\n",
       "    </tr>\n",
       "    <tr>\n",
       "      <th>3</th>\n",
       "      <td>0374157065</td>\n",
       "      <td>Flu: The Story of the Great Influenza Pandemic...</td>\n",
       "      <td>Gina Bari Kolata</td>\n",
       "      <td>1999</td>\n",
       "      <td>Farrar Straus Giroux</td>\n",
       "      <td>http://images.amazon.com/images/P/0374157065.0...</td>\n",
       "      <td>http://images.amazon.com/images/P/0374157065.0...</td>\n",
       "      <td>http://images.amazon.com/images/P/0374157065.0...</td>\n",
       "    </tr>\n",
       "    <tr>\n",
       "      <th>4</th>\n",
       "      <td>0393045218</td>\n",
       "      <td>The Mummies of Urumchi</td>\n",
       "      <td>E. J. W. Barber</td>\n",
       "      <td>1999</td>\n",
       "      <td>W. W. Norton &amp;amp; Company</td>\n",
       "      <td>http://images.amazon.com/images/P/0393045218.0...</td>\n",
       "      <td>http://images.amazon.com/images/P/0393045218.0...</td>\n",
       "      <td>http://images.amazon.com/images/P/0393045218.0...</td>\n",
       "    </tr>\n",
       "  </tbody>\n",
       "</table>\n",
       "</div>"
      ],
      "text/plain": [
       "         ISBN                                          bookTitle  \\\n",
       "0  0195153448                                Classical Mythology   \n",
       "1  0002005018                                       Clara Callan   \n",
       "2  0060973129                               Decision in Normandy   \n",
       "3  0374157065  Flu: The Story of the Great Influenza Pandemic...   \n",
       "4  0393045218                             The Mummies of Urumchi   \n",
       "\n",
       "             bookAuthor yearOfPublication                   publisher  \\\n",
       "0    Mark P. O. Morford              2002     Oxford University Press   \n",
       "1  Richard Bruce Wright              2001       HarperFlamingo Canada   \n",
       "2          Carlo D'Este              1991             HarperPerennial   \n",
       "3      Gina Bari Kolata              1999        Farrar Straus Giroux   \n",
       "4       E. J. W. Barber              1999  W. W. Norton &amp; Company   \n",
       "\n",
       "                                           imageUrlS  \\\n",
       "0  http://images.amazon.com/images/P/0195153448.0...   \n",
       "1  http://images.amazon.com/images/P/0002005018.0...   \n",
       "2  http://images.amazon.com/images/P/0060973129.0...   \n",
       "3  http://images.amazon.com/images/P/0374157065.0...   \n",
       "4  http://images.amazon.com/images/P/0393045218.0...   \n",
       "\n",
       "                                           imageUrlM  \\\n",
       "0  http://images.amazon.com/images/P/0195153448.0...   \n",
       "1  http://images.amazon.com/images/P/0002005018.0...   \n",
       "2  http://images.amazon.com/images/P/0060973129.0...   \n",
       "3  http://images.amazon.com/images/P/0374157065.0...   \n",
       "4  http://images.amazon.com/images/P/0393045218.0...   \n",
       "\n",
       "                                           imageUrlL  \n",
       "0  http://images.amazon.com/images/P/0195153448.0...  \n",
       "1  http://images.amazon.com/images/P/0002005018.0...  \n",
       "2  http://images.amazon.com/images/P/0060973129.0...  \n",
       "3  http://images.amazon.com/images/P/0374157065.0...  \n",
       "4  http://images.amazon.com/images/P/0393045218.0...  "
      ]
     },
     "execution_count": 8,
     "metadata": {},
     "output_type": "execute_result"
    }
   ],
   "source": [
    "books.head()"
   ]
  },
  {
   "cell_type": "code",
   "execution_count": 6,
   "metadata": {
    "collapsed": false
   },
   "outputs": [
    {
     "data": {
      "text/html": [
       "<div>\n",
       "<table border=\"1\" class=\"dataframe\">\n",
       "  <thead>\n",
       "    <tr style=\"text-align: right;\">\n",
       "      <th></th>\n",
       "      <th>userID</th>\n",
       "      <th>ISBN</th>\n",
       "      <th>bookRating</th>\n",
       "    </tr>\n",
       "  </thead>\n",
       "  <tbody>\n",
       "    <tr>\n",
       "      <th>0</th>\n",
       "      <td>276725</td>\n",
       "      <td>034545104X</td>\n",
       "      <td>0</td>\n",
       "    </tr>\n",
       "    <tr>\n",
       "      <th>1</th>\n",
       "      <td>276726</td>\n",
       "      <td>0155061224</td>\n",
       "      <td>5</td>\n",
       "    </tr>\n",
       "    <tr>\n",
       "      <th>2</th>\n",
       "      <td>276727</td>\n",
       "      <td>0446520802</td>\n",
       "      <td>0</td>\n",
       "    </tr>\n",
       "    <tr>\n",
       "      <th>3</th>\n",
       "      <td>276729</td>\n",
       "      <td>052165615X</td>\n",
       "      <td>3</td>\n",
       "    </tr>\n",
       "    <tr>\n",
       "      <th>4</th>\n",
       "      <td>276729</td>\n",
       "      <td>0521795028</td>\n",
       "      <td>6</td>\n",
       "    </tr>\n",
       "  </tbody>\n",
       "</table>\n",
       "</div>"
      ],
      "text/plain": [
       "   userID        ISBN  bookRating\n",
       "0  276725  034545104X           0\n",
       "1  276726  0155061224           5\n",
       "2  276727  0446520802           0\n",
       "3  276729  052165615X           3\n",
       "4  276729  0521795028           6"
      ]
     },
     "execution_count": 6,
     "metadata": {},
     "output_type": "execute_result"
    }
   ],
   "source": [
    "ratings.head()"
   ]
  },
  {
   "cell_type": "code",
   "execution_count": 7,
   "metadata": {
    "collapsed": false
   },
   "outputs": [
    {
     "name": "stdout",
     "output_type": "stream",
     "text": [
      "3296362\n"
     ]
    }
   ],
   "source": []
  },
  {
   "cell_type": "code",
   "execution_count": 5,
   "metadata": {
    "collapsed": false
   },
   "outputs": [
    {
     "data": {
      "text/html": [
       "<div>\n",
       "<table border=\"1\" class=\"dataframe\">\n",
       "  <thead>\n",
       "    <tr style=\"text-align: right;\">\n",
       "      <th></th>\n",
       "      <th>userID</th>\n",
       "      <th>Location</th>\n",
       "      <th>Age</th>\n",
       "    </tr>\n",
       "  </thead>\n",
       "  <tbody>\n",
       "    <tr>\n",
       "      <th>0</th>\n",
       "      <td>1</td>\n",
       "      <td>nyc, new york, usa</td>\n",
       "      <td>NaN</td>\n",
       "    </tr>\n",
       "    <tr>\n",
       "      <th>1</th>\n",
       "      <td>2</td>\n",
       "      <td>stockton, california, usa</td>\n",
       "      <td>18.0</td>\n",
       "    </tr>\n",
       "    <tr>\n",
       "      <th>2</th>\n",
       "      <td>3</td>\n",
       "      <td>moscow, yukon territory, russia</td>\n",
       "      <td>NaN</td>\n",
       "    </tr>\n",
       "    <tr>\n",
       "      <th>3</th>\n",
       "      <td>4</td>\n",
       "      <td>porto, v.n.gaia, portugal</td>\n",
       "      <td>17.0</td>\n",
       "    </tr>\n",
       "    <tr>\n",
       "      <th>4</th>\n",
       "      <td>5</td>\n",
       "      <td>farnborough, hants, united kingdom</td>\n",
       "      <td>NaN</td>\n",
       "    </tr>\n",
       "  </tbody>\n",
       "</table>\n",
       "</div>"
      ],
      "text/plain": [
       "   userID                            Location   Age\n",
       "0       1                  nyc, new york, usa   NaN\n",
       "1       2           stockton, california, usa  18.0\n",
       "2       3     moscow, yukon territory, russia   NaN\n",
       "3       4           porto, v.n.gaia, portugal  17.0\n",
       "4       5  farnborough, hants, united kingdom   NaN"
      ]
     },
     "execution_count": 5,
     "metadata": {},
     "output_type": "execute_result"
    }
   ],
   "source": [
    "users.head()"
   ]
  },
  {
   "cell_type": "markdown",
   "metadata": {
    "collapsed": true
   },
   "source": [
    "# Data Visualisation\n",
    "\n",
    "Now that, we have every dataset table, let start understand and visualise links between these three tables. For example, when displaying the five first rows of the table ratings, we notice the presence of two interesting columns: $UserID$ and $ISBN$. This must attract our attention, because they are keys or links for retreiving the User $UserID$ who made the rating on a book $ISBN$. The most interesting thing is that, we can not find these informations about Users and books in the table rating directly but we can follow these links in their respective tables. Users for UserID and ISBN for Books. This is exactly the concept of primary key and foreign keys. Therefore UserID and ISBN are foreigns in the table rating and primary in Users and Books respectivly.\n",
    "\n",
    "Why the necessity of merging data from different table we have. Having a look at the columns of these three tables, we can find a way to merge them in order to have a unique table that contains almost all information we need to analyse from the data. \n",
    "\n",
    "As we notice the presence of $UserID$ from users in the table books, we can merge only the tables books and ratings because of the presence of $ISBN$ from books in ratings. In other words, we need to find a table where for each user, we may find the ISBN of every book he rated or either not, and the complete informations  about every book"
   ]
  },
  {
   "cell_type": "code",
   "execution_count": 6,
   "metadata": {
    "collapsed": false
   },
   "outputs": [],
   "source": [
    "\"\"\" In order to perfom analysis with the data, we need to merge rating and books table in the data frame called book_data\"\"\"\n",
    "#the merge method from pandas library, it receive rating and books as parameters with a filter on the ISBN\n",
    "books_data = pd.merge(ratings, books, on='ISBN') "
   ]
  },
  {
   "cell_type": "code",
   "execution_count": null,
   "metadata": {
    "collapsed": false
   },
   "outputs": [],
   "source": []
  },
  {
   "cell_type": "markdown",
   "metadata": {},
   "source": [
    "Running this code, our newly dataframe named books_data will contains 1031136 rows and 10 columns.\n"
   ]
  },
  {
   "cell_type": "code",
   "execution_count": 7,
   "metadata": {
    "collapsed": false
   },
   "outputs": [
    {
     "name": "stdout",
     "output_type": "stream",
     "text": [
      "(1031136, 10)\n"
     ]
    }
   ],
   "source": [
    "print(books_data.shape)\n",
    "#first five rows\n",
    "#books_data.head()"
   ]
  },
  {
   "cell_type": "code",
   "execution_count": null,
   "metadata": {
    "collapsed": false
   },
   "outputs": [],
   "source": []
  },
  {
   "cell_type": "markdown",
   "metadata": {
    "collapsed": true
   },
   "source": [
    "From the book_data table, we can see that we only need the userID if we want more informations about users but this is not necessary, because we would like to keep anonimous our users.\n",
    "\n",
    "Now that we have almost the data we need, we can adress the problem of average rating. Imagine that we would like to know the average rating of each book made by users. To do so, we can group the book_data table by bookTitle or either by bookAuthor and so on, and then compute the mean of the rating for each book.\n",
    "\n",
    "let's start to do so with an example: Compute the average rating of books according to their titles. The answer consists of grouping the bookTitle column and calculate the mean rating of each group as follow:\n",
    "\n"
   ]
  },
  {
   "cell_type": "code",
   "execution_count": 12,
   "metadata": {
    "collapsed": false
   },
   "outputs": [
    {
     "data": {
      "text/plain": [
       "bookTitle\n",
       "Civil Rights Actions: Enforcing the Constitution (University Casebook)                                              10.0\n",
       "FAR/AIM 2004: Federal Aviation Regulations/Aeronautical Information Manual (FAR series)                             10.0\n",
       "What Followers Expect from Leaders : How to Meet People's Expectations and Build Credibility (Management Series)    10.0\n",
       "FAR/AIM 2003: Federal Aviation Regulations/Aeronautical Information Manual (FAR series)                             10.0\n",
       "Lewis and Clark: Voyage of Discovery (Voyage of Discovery)                                                          10.0\n",
       "Name: bookRating, dtype: float64"
      ]
     },
     "execution_count": 12,
     "metadata": {},
     "output_type": "execute_result"
    }
   ],
   "source": [
    "# compute the mean rating of occurence of bookTitle and sort them in a ascending order of their ratings.\n",
    "books_data.groupby('bookTitle')['bookRating'].mean().sort_values(ascending=False).head()"
   ]
  },
  {
   "cell_type": "markdown",
   "metadata": {},
   "source": [
    "A book can be rated with $10$ by only one user, therefore the average rating of that book will be $10$ as the case in the following situation. Let pick randomly two books and see how many time it appear in the data. The first appear once in the data with a rating of $10$, hence the average is also of 10. The second book appear forth time in the data with a rating of respectivly $ 0,0,0,9$ therefore the average rating is of $2.25.$ "
   ]
  },
  {
   "cell_type": "markdown",
   "metadata": {},
   "source": [
    "\n",
    "running this code, the table shows that the book were rating only by one user."
   ]
  },
  {
   "cell_type": "code",
   "execution_count": 13,
   "metadata": {
    "collapsed": false
   },
   "outputs": [
    {
     "data": {
      "text/html": [
       "<div>\n",
       "<table border=\"1\" class=\"dataframe\">\n",
       "  <thead>\n",
       "    <tr style=\"text-align: right;\">\n",
       "      <th></th>\n",
       "      <th>userID</th>\n",
       "      <th>ISBN</th>\n",
       "      <th>bookRating</th>\n",
       "      <th>bookTitle</th>\n",
       "      <th>bookAuthor</th>\n",
       "      <th>yearOfPublication</th>\n",
       "      <th>publisher</th>\n",
       "      <th>imageUrlS</th>\n",
       "      <th>imageUrlM</th>\n",
       "      <th>imageUrlL</th>\n",
       "    </tr>\n",
       "  </thead>\n",
       "  <tbody>\n",
       "    <tr>\n",
       "      <th>816238</th>\n",
       "      <td>76499</td>\n",
       "      <td>1566627664</td>\n",
       "      <td>10</td>\n",
       "      <td>Civil Rights Actions: Enforcing the Constituti...</td>\n",
       "      <td>John Calvin Jeffries</td>\n",
       "      <td>2000</td>\n",
       "      <td>Foundation Press</td>\n",
       "      <td>http://images.amazon.com/images/P/1566627664.0...</td>\n",
       "      <td>http://images.amazon.com/images/P/1566627664.0...</td>\n",
       "      <td>http://images.amazon.com/images/P/1566627664.0...</td>\n",
       "    </tr>\n",
       "  </tbody>\n",
       "</table>\n",
       "</div>"
      ],
      "text/plain": [
       "        userID        ISBN  bookRating  \\\n",
       "816238   76499  1566627664          10   \n",
       "\n",
       "                                                bookTitle  \\\n",
       "816238  Civil Rights Actions: Enforcing the Constituti...   \n",
       "\n",
       "                  bookAuthor yearOfPublication         publisher  \\\n",
       "816238  John Calvin Jeffries              2000  Foundation Press   \n",
       "\n",
       "                                                imageUrlS  \\\n",
       "816238  http://images.amazon.com/images/P/1566627664.0...   \n",
       "\n",
       "                                                imageUrlM  \\\n",
       "816238  http://images.amazon.com/images/P/1566627664.0...   \n",
       "\n",
       "                                                imageUrlL  \n",
       "816238  http://images.amazon.com/images/P/1566627664.0...  "
      ]
     },
     "execution_count": 13,
     "metadata": {},
     "output_type": "execute_result"
    }
   ],
   "source": [
    "title='Civil Rights Actions: Enforcing the Constitution (University Casebook)'\n",
    "#filter the book\n",
    "book=books_data[books_data['bookTitle']==title]\n",
    "book"
   ]
  },
  {
   "cell_type": "markdown",
   "metadata": {
    "collapsed": true
   },
   "source": [
    "Running the code in the second case, the table shows that the book entitled \"A Light in the Storm....\" were rating by four users."
   ]
  },
  {
   "cell_type": "code",
   "execution_count": 9,
   "metadata": {
    "collapsed": true
   },
   "outputs": [],
   "source": [
    "title=' A Light in the Storm: The Civil War Diary of Amelia Martin, Fenwick Island, Delaware, 1861 (Dear America)'"
   ]
  },
  {
   "cell_type": "code",
   "execution_count": 10,
   "metadata": {
    "collapsed": false
   },
   "outputs": [],
   "source": [
    "book=books_data[books_data['bookTitle']==title]\n",
    "\n"
   ]
  },
  {
   "cell_type": "markdown",
   "metadata": {},
   "source": [
    "From the first case we see that the average rating of $10$ does not mean that the book were rated by a large number of users and from the second case we can see that if the average rate is less than $5$, it does not mean that we may prefer the first book because of it higher rate average than the second because of it lower rate average. Normaly a good book must get a higher rating average with a large number of user. This situation lead to count the number of time a book has been rated by users. The following command shows a sorted list starting from the top most rated books."
   ]
  },
  {
   "cell_type": "code",
   "execution_count": 11,
   "metadata": {
    "collapsed": false
   },
   "outputs": [
    {
     "data": {
      "text/plain": [
       "bookTitle\n",
       "Wild Animus                   2502\n",
       "The Lovely Bones: A Novel     1295\n",
       "The Da Vinci Code              898\n",
       "A Painted House                838\n",
       "The Nanny Diaries: A Novel     828\n",
       "Name: bookRating, dtype: int64"
      ]
     },
     "execution_count": 11,
     "metadata": {},
     "output_type": "execute_result"
    }
   ],
   "source": [
    "\"\"\" To start the process of visualing data we need to perfom some basic analysis. The first one is the count of rating book\n",
    "then, compute the average rating for every book\"\"\"\n",
    "# count the number of rating for every book title and sort from the top rated books to the down rated books.\n",
    "books_data.groupby('bookTitle')['bookRating'].count().sort_values(ascending=False).head()"
   ]
  },
  {
   "cell_type": "markdown",
   "metadata": {},
   "source": [
    "Now that we know the number of ratings for each book, we may compute the average rating for every book in the database to see how it look like. The following command computes the rating mean, count the number of rating for each book and put them in a new column named $\\textbf{rating_counts}$ For more statistic accuracy we need to get rid of some books with less than 100 ratings."
   ]
  },
  {
   "cell_type": "code",
   "execution_count": 15,
   "metadata": {
    "collapsed": false
   },
   "outputs": [
    {
     "data": {
      "text/html": [
       "<div>\n",
       "<table border=\"1\" class=\"dataframe\">\n",
       "  <thead>\n",
       "    <tr style=\"text-align: right;\">\n",
       "      <th></th>\n",
       "      <th>bookRating</th>\n",
       "      <th>rating_counts</th>\n",
       "    </tr>\n",
       "    <tr>\n",
       "      <th>bookTitle</th>\n",
       "      <th></th>\n",
       "      <th></th>\n",
       "    </tr>\n",
       "  </thead>\n",
       "  <tbody>\n",
       "    <tr>\n",
       "      <th>Wild Animus</th>\n",
       "      <td>1.019584</td>\n",
       "      <td>2502</td>\n",
       "    </tr>\n",
       "    <tr>\n",
       "      <th>The Lovely Bones: A Novel</th>\n",
       "      <td>4.468726</td>\n",
       "      <td>1295</td>\n",
       "    </tr>\n",
       "    <tr>\n",
       "      <th>The Da Vinci Code</th>\n",
       "      <td>4.642539</td>\n",
       "      <td>898</td>\n",
       "    </tr>\n",
       "    <tr>\n",
       "      <th>A Painted House</th>\n",
       "      <td>3.231504</td>\n",
       "      <td>838</td>\n",
       "    </tr>\n",
       "    <tr>\n",
       "      <th>The Nanny Diaries: A Novel</th>\n",
       "      <td>3.530193</td>\n",
       "      <td>828</td>\n",
       "    </tr>\n",
       "  </tbody>\n",
       "</table>\n",
       "</div>"
      ],
      "text/plain": [
       "                            bookRating  rating_counts\n",
       "bookTitle                                            \n",
       "Wild Animus                   1.019584           2502\n",
       "The Lovely Bones: A Novel     4.468726           1295\n",
       "The Da Vinci Code             4.642539            898\n",
       "A Painted House               3.231504            838\n",
       "The Nanny Diaries: A Novel    3.530193            828"
      ]
     },
     "execution_count": 15,
     "metadata": {},
     "output_type": "execute_result"
    }
   ],
   "source": [
    "#For each book, compute the mean of their ratings\n",
    "ratings_mean_count = pd.DataFrame(books_data.groupby('bookTitle')['bookRating'].mean())\n",
    "# create a new column rating_count\n",
    "ratings_mean_count['rating_counts'] = pd.DataFrame(books_data.groupby('bookTitle')['bookRating'].count())\n",
    "ratings_mean_count.sort_values('rating_counts', ascending=False).head()"
   ]
  },
  {
   "cell_type": "code",
   "execution_count": null,
   "metadata": {
    "collapsed": false
   },
   "outputs": [],
   "source": []
  },
  {
   "cell_type": "code",
   "execution_count": 13,
   "metadata": {
    "collapsed": false
   },
   "outputs": [],
   "source": [
    "\"\"\" Fouding that there is a lot of books with rating less than 100, our histogram will not be very interesting,\n",
    "therefore, we decided to get rid of rating less than 100. \n",
    "We will see in the plot that most of the books have received less than 150 ratings\"\"\"\n",
    "#get rid of books with less than 100 ratings\n",
    "ratings_mean_count = ratings_mean_count[ratings_mean_count['rating_counts']>100]\n"
   ]
  },
  {
   "cell_type": "code",
   "execution_count": null,
   "metadata": {
    "collapsed": true
   },
   "outputs": [],
   "source": []
  },
  {
   "cell_type": "markdown",
   "metadata": {},
   "source": [
    "# Now we can visualise the data, to see how the distribution is presented"
   ]
  },
  {
   "cell_type": "code",
   "execution_count": 14,
   "metadata": {
    "collapsed": false
   },
   "outputs": [
    {
     "data": {
      "text/plain": [
       "<matplotlib.axes._subplots.AxesSubplot at 0x7f7af32e32b0>"
      ]
     },
     "execution_count": 14,
     "metadata": {},
     "output_type": "execute_result"
    },
    {
     "data": {
      "image/png": "[encoded data removed]",
      "text/plain": [
       "<matplotlib.figure.Figure at 0x7f7af33299b0>"
      ]
     },
     "metadata": {},
     "output_type": "display_data"
    }
   ],
   "source": [
    "import matplotlib.pyplot as plt  \n",
    "import seaborn as sns  \n",
    "sns.set_style('dark')  \n",
    "%matplotlib inline\n",
    "\n",
    "plt.figure(figsize=(8,6))\n",
    "\n",
    "plt.title('Book rating frequency')\n",
    "plt.grid()\n",
    "plt.rcParams['patch.force_edgecolor'] = True  \n",
    "ratings_mean_count['rating_counts'].hist(bins=50)  \n"
   ]
  },
  {
   "cell_type": "markdown",
   "metadata": {},
   "source": [
    "From the output, you can see that most of the books have received less than 150 ratings. While the number of books having more than 150 ratings is very low. In order to get good distribution of the data set in the next plot, we need to get rid of rating less than 150"
   ]
  },
  {
   "cell_type": "code",
   "execution_count": 20,
   "metadata": {
    "collapsed": false
   },
   "outputs": [
    {
     "data": {
      "text/plain": [
       "<matplotlib.axes._subplots.AxesSubplot at 0x7fa2de150940>"
      ]
     },
     "execution_count": 20,
     "metadata": {},
     "output_type": "execute_result"
    },
    {
     "data": {
      "image/png": "[encoded data removed]",
      "text/plain": [
       "<matplotlib.figure.Figure at 0x7fa2de150860>"
      ]
     },
     "metadata": {},
     "output_type": "display_data"
    }
   ],
   "source": [
    "\"\"\" In the second plot, in order to get a very interesting normal distribution we removed rating less than 150\n",
    "\"\"\"\n",
    "plt.figure(figsize=(8,6))  \n",
    "plt.rcParams['patch.force_edgecolor'] = True  \n",
    "ratings_mean_count['bookRating'].hist(bins=50) "
   ]
  },
  {
   "cell_type": "markdown",
   "metadata": {},
   "source": [
    "From the output, we can see that the data distribution appraoches the normal distribution when get rid of rating less than 150."
   ]
  },
  {
   "cell_type": "markdown",
   "metadata": {
    "collapsed": false
   },
   "source": [
    "# Recommender System based on Pearson's Correlation"
   ]
  },
  {
   "cell_type": "markdown",
   "metadata": {
    "collapsed": true
   },
   "source": [
    "Now that we have done some visualisations about data, it is time to try using some interesting algorithms on recommender systems. The first one is based on similarities between books. The Pearson's correlation coeficient we are going to use, measures the lineair correlation between two variables. The basic principle of the method is that if we suppose that the rate attributed to books by users $U_i$ and $U_j$ are random incomplete  vectors $X_i\\in \\mathbf{R}^n$ and $X_j\\in \\mathbf{R}^m$ of an unknow distribution, therefore it is possible to define the linear correlation between $X_i$ and $X_j$ using Pearson's formula given by:\n",
    "$\\rho = \\frac{Cov(X_i,X_j)}{\\sqrt{Var(X_i)} \\times \\sqrt{Var(X_j)}}$. Where $Cov(X_i,X_j) = \\mathbf{E}[(X_i-\\mathbf{E}(X_i))\\times (X_j-\\mathbf{E}(X_j))]$. As indicated in the formula we must find out the average rating of each book in the dataset, count the occurence rating of each book and hence getting rid of users with less than 200 ratings and books with less than 100 rating for more accuracy as stupiled in the \"Building A Book Recommender System – The Basics, kNN and Matrix Factorization\" tutorial."
   ]
  },
  {
   "cell_type": "code",
   "execution_count": 21,
   "metadata": {
    "collapsed": true
   },
   "outputs": [],
   "source": [
    "#books_data = pd.merge(ratings, books, on='ISBN') "
   ]
  },
  {
   "cell_type": "code",
   "execution_count": 22,
   "metadata": {
    "collapsed": false
   },
   "outputs": [],
   "source": [
    "\n",
    "    # compute the average rating of books rating\n",
    "ratings_mean_count = pd.DataFrame(books_data.groupby('ISBN')['bookRating'].mean())\n",
    "        #count the book rating for each ISBN\n",
    "ratings_mean_count['rating_counts'] = pd.DataFrame(books_data.groupby('ISBN')['bookRating'].count())\n",
    "    #return ratings_mean_count\n",
    "        "
   ]
  },
  {
   "cell_type": "code",
   "execution_count": 23,
   "metadata": {
    "collapsed": false
   },
   "outputs": [
    {
     "data": {
      "text/html": [
       "<div>\n",
       "<table border=\"1\" class=\"dataframe\">\n",
       "  <thead>\n",
       "    <tr style=\"text-align: right;\">\n",
       "      <th></th>\n",
       "      <th>bookRating</th>\n",
       "      <th>rating_counts</th>\n",
       "    </tr>\n",
       "    <tr>\n",
       "      <th>ISBN</th>\n",
       "      <th></th>\n",
       "      <th></th>\n",
       "    </tr>\n",
       "  </thead>\n",
       "  <tbody>\n",
       "    <tr>\n",
       "      <th>0971880107</th>\n",
       "      <td>1.019584</td>\n",
       "      <td>2502</td>\n",
       "    </tr>\n",
       "    <tr>\n",
       "      <th>0316666343</th>\n",
       "      <td>4.468726</td>\n",
       "      <td>1295</td>\n",
       "    </tr>\n",
       "    <tr>\n",
       "      <th>0385504209</th>\n",
       "      <td>4.652322</td>\n",
       "      <td>883</td>\n",
       "    </tr>\n",
       "    <tr>\n",
       "      <th>0060928336</th>\n",
       "      <td>3.448087</td>\n",
       "      <td>732</td>\n",
       "    </tr>\n",
       "    <tr>\n",
       "      <th>0312195516</th>\n",
       "      <td>4.334716</td>\n",
       "      <td>723</td>\n",
       "    </tr>\n",
       "  </tbody>\n",
       "</table>\n",
       "</div>"
      ],
      "text/plain": [
       "            bookRating  rating_counts\n",
       "ISBN                                 \n",
       "0971880107    1.019584           2502\n",
       "0316666343    4.468726           1295\n",
       "0385504209    4.652322            883\n",
       "0060928336    3.448087            732\n",
       "0312195516    4.334716            723"
      ]
     },
     "execution_count": 23,
     "metadata": {},
     "output_type": "execute_result"
    }
   ],
   "source": [
    "\n",
    "counts = ratings['bookRating'].value_counts()\n",
    "ratings_mean_count = ratings_mean_count[ratings_mean_count['rating_counts']>100]\n",
    "ratings_mean_count.sort_values('rating_counts', ascending=False).head()"
   ]
  },
  {
   "cell_type": "code",
   "execution_count": 25,
   "metadata": {
    "collapsed": false
   },
   "outputs": [],
   "source": [
    "\n",
    "    #count the numbers of rating for each users\n",
    "count_users = ratings['userID'].value_counts()\n",
    "    # get rid of users with less than 200 ratings\n",
    "ratings = ratings[ratings['userID'].isin(count_users [count_users  >= 200].index)]\n",
    "    #count number of rating for each book\n",
    "count_rating = ratings['bookRating'].value_counts()\n",
    "    #get rid of books with less than 100 rating\n",
    "ratings = ratings[ratings['bookRating'].isin( count_rating[ count_rating >= 100].index)]\n",
    "    \n"
   ]
  },
  {
   "cell_type": "markdown",
   "metadata": {},
   "source": [
    "The following code creates the matrix where each column contains all the rating users for a particular book and the rows shows all the ratings for a particular users."
   ]
  },
  {
   "cell_type": "code",
   "execution_count": 26,
   "metadata": {
    "collapsed": false
   },
   "outputs": [
    {
     "name": "stdout",
     "output_type": "stream",
     "text": [
      "(905, 207699)\n"
     ]
    },
    {
     "data": {
      "text/html": [
       "<div>\n",
       "<table border=\"1\" class=\"dataframe\">\n",
       "  <thead>\n",
       "    <tr style=\"text-align: right;\">\n",
       "      <th>ISBN</th>\n",
       "      <th>0330299891</th>\n",
       "      <th>0375404120</th>\n",
       "      <th>0586045007</th>\n",
       "      <th>9022906116</th>\n",
       "      <th>9032803328</th>\n",
       "      <th>9044922564</th>\n",
       "      <th>9044922572</th>\n",
       "      <th>9044922718</th>\n",
       "      <th>9044923161</th>\n",
       "      <th>904492401X</th>\n",
       "      <th>...</th>\n",
       "      <th>UNGRANDHOMMED</th>\n",
       "      <th>X000000000</th>\n",
       "      <th>YOUTELLEM,AND</th>\n",
       "      <th>ZR903CX0003</th>\n",
       "      <th>\\0432534220\\\"\"</th>\n",
       "      <th>\\2842053052\\\"\"</th>\n",
       "      <th>b00005wz75</th>\n",
       "      <th>cn108465</th>\n",
       "      <th>cn113107</th>\n",
       "      <th>Ô½crosoft</th>\n",
       "    </tr>\n",
       "    <tr>\n",
       "      <th>userID</th>\n",
       "      <th></th>\n",
       "      <th></th>\n",
       "      <th></th>\n",
       "      <th></th>\n",
       "      <th></th>\n",
       "      <th></th>\n",
       "      <th></th>\n",
       "      <th></th>\n",
       "      <th></th>\n",
       "      <th></th>\n",
       "      <th></th>\n",
       "      <th></th>\n",
       "      <th></th>\n",
       "      <th></th>\n",
       "      <th></th>\n",
       "      <th></th>\n",
       "      <th></th>\n",
       "      <th></th>\n",
       "      <th></th>\n",
       "      <th></th>\n",
       "      <th></th>\n",
       "    </tr>\n",
       "  </thead>\n",
       "  <tbody>\n",
       "    <tr>\n",
       "      <th>254</th>\n",
       "      <td>NaN</td>\n",
       "      <td>NaN</td>\n",
       "      <td>NaN</td>\n",
       "      <td>NaN</td>\n",
       "      <td>NaN</td>\n",
       "      <td>NaN</td>\n",
       "      <td>NaN</td>\n",
       "      <td>NaN</td>\n",
       "      <td>NaN</td>\n",
       "      <td>NaN</td>\n",
       "      <td>...</td>\n",
       "      <td>NaN</td>\n",
       "      <td>NaN</td>\n",
       "      <td>NaN</td>\n",
       "      <td>NaN</td>\n",
       "      <td>NaN</td>\n",
       "      <td>NaN</td>\n",
       "      <td>NaN</td>\n",
       "      <td>NaN</td>\n",
       "      <td>NaN</td>\n",
       "      <td>NaN</td>\n",
       "    </tr>\n",
       "    <tr>\n",
       "      <th>2276</th>\n",
       "      <td>NaN</td>\n",
       "      <td>NaN</td>\n",
       "      <td>NaN</td>\n",
       "      <td>NaN</td>\n",
       "      <td>NaN</td>\n",
       "      <td>NaN</td>\n",
       "      <td>NaN</td>\n",
       "      <td>NaN</td>\n",
       "      <td>NaN</td>\n",
       "      <td>NaN</td>\n",
       "      <td>...</td>\n",
       "      <td>NaN</td>\n",
       "      <td>NaN</td>\n",
       "      <td>NaN</td>\n",
       "      <td>NaN</td>\n",
       "      <td>NaN</td>\n",
       "      <td>NaN</td>\n",
       "      <td>NaN</td>\n",
       "      <td>NaN</td>\n",
       "      <td>NaN</td>\n",
       "      <td>NaN</td>\n",
       "    </tr>\n",
       "    <tr>\n",
       "      <th>2766</th>\n",
       "      <td>NaN</td>\n",
       "      <td>NaN</td>\n",
       "      <td>NaN</td>\n",
       "      <td>NaN</td>\n",
       "      <td>NaN</td>\n",
       "      <td>NaN</td>\n",
       "      <td>NaN</td>\n",
       "      <td>NaN</td>\n",
       "      <td>NaN</td>\n",
       "      <td>NaN</td>\n",
       "      <td>...</td>\n",
       "      <td>NaN</td>\n",
       "      <td>NaN</td>\n",
       "      <td>NaN</td>\n",
       "      <td>NaN</td>\n",
       "      <td>NaN</td>\n",
       "      <td>NaN</td>\n",
       "      <td>NaN</td>\n",
       "      <td>NaN</td>\n",
       "      <td>NaN</td>\n",
       "      <td>NaN</td>\n",
       "    </tr>\n",
       "    <tr>\n",
       "      <th>2977</th>\n",
       "      <td>NaN</td>\n",
       "      <td>NaN</td>\n",
       "      <td>NaN</td>\n",
       "      <td>NaN</td>\n",
       "      <td>NaN</td>\n",
       "      <td>NaN</td>\n",
       "      <td>NaN</td>\n",
       "      <td>NaN</td>\n",
       "      <td>NaN</td>\n",
       "      <td>NaN</td>\n",
       "      <td>...</td>\n",
       "      <td>NaN</td>\n",
       "      <td>NaN</td>\n",
       "      <td>NaN</td>\n",
       "      <td>NaN</td>\n",
       "      <td>NaN</td>\n",
       "      <td>NaN</td>\n",
       "      <td>NaN</td>\n",
       "      <td>NaN</td>\n",
       "      <td>NaN</td>\n",
       "      <td>NaN</td>\n",
       "    </tr>\n",
       "    <tr>\n",
       "      <th>3363</th>\n",
       "      <td>NaN</td>\n",
       "      <td>NaN</td>\n",
       "      <td>NaN</td>\n",
       "      <td>NaN</td>\n",
       "      <td>NaN</td>\n",
       "      <td>NaN</td>\n",
       "      <td>NaN</td>\n",
       "      <td>NaN</td>\n",
       "      <td>NaN</td>\n",
       "      <td>NaN</td>\n",
       "      <td>...</td>\n",
       "      <td>NaN</td>\n",
       "      <td>NaN</td>\n",
       "      <td>NaN</td>\n",
       "      <td>NaN</td>\n",
       "      <td>NaN</td>\n",
       "      <td>NaN</td>\n",
       "      <td>NaN</td>\n",
       "      <td>NaN</td>\n",
       "      <td>NaN</td>\n",
       "      <td>NaN</td>\n",
       "    </tr>\n",
       "  </tbody>\n",
       "</table>\n",
       "<p>5 rows × 207699 columns</p>\n",
       "</div>"
      ],
      "text/plain": [
       "ISBN     0330299891   0375404120   0586045007   9022906116   9032803328  \\\n",
       "userID                                                                    \n",
       "254             NaN          NaN          NaN          NaN          NaN   \n",
       "2276            NaN          NaN          NaN          NaN          NaN   \n",
       "2766            NaN          NaN          NaN          NaN          NaN   \n",
       "2977            NaN          NaN          NaN          NaN          NaN   \n",
       "3363            NaN          NaN          NaN          NaN          NaN   \n",
       "\n",
       "ISBN     9044922564   9044922572   9044922718   9044923161   904492401X  \\\n",
       "userID                                                                    \n",
       "254             NaN          NaN          NaN          NaN          NaN   \n",
       "2276            NaN          NaN          NaN          NaN          NaN   \n",
       "2766            NaN          NaN          NaN          NaN          NaN   \n",
       "2977            NaN          NaN          NaN          NaN          NaN   \n",
       "3363            NaN          NaN          NaN          NaN          NaN   \n",
       "\n",
       "ISBN      ...      UNGRANDHOMMED  X000000000  YOUTELLEM,AND  ZR903CX0003  \\\n",
       "userID    ...                                                              \n",
       "254       ...                NaN         NaN            NaN          NaN   \n",
       "2276      ...                NaN         NaN            NaN          NaN   \n",
       "2766      ...                NaN         NaN            NaN          NaN   \n",
       "2977      ...                NaN         NaN            NaN          NaN   \n",
       "3363      ...                NaN         NaN            NaN          NaN   \n",
       "\n",
       "ISBN    \\0432534220\\\"\"  \\2842053052\\\"\"  b00005wz75  cn108465  cn113107  \\\n",
       "userID                                                                   \n",
       "254                NaN             NaN         NaN       NaN       NaN   \n",
       "2276               NaN             NaN         NaN       NaN       NaN   \n",
       "2766               NaN             NaN         NaN       NaN       NaN   \n",
       "2977               NaN             NaN         NaN       NaN       NaN   \n",
       "3363               NaN             NaN         NaN       NaN       NaN   \n",
       "\n",
       "ISBN    Ô½crosoft  \n",
       "userID             \n",
       "254           NaN  \n",
       "2276          NaN  \n",
       "2766          NaN  \n",
       "2977          NaN  \n",
       "3363          NaN  \n",
       "\n",
       "[5 rows x 207699 columns]"
      ]
     },
     "execution_count": 26,
     "metadata": {},
     "output_type": "execute_result"
    }
   ],
   "source": [
    "#create a matrix where columns are ISBN and rows are userID\n",
    "ratings_matrix = ratings.pivot(index='userID', columns='ISBN').bookRating\n",
    "# display the shape of the matrix\n",
    "print(ratings_matrix.shape)\n",
    "# print the 5 first rows of the matrix\n",
    "ratings_matrix.head()\n"
   ]
  },
  {
   "cell_type": "code",
   "execution_count": null,
   "metadata": {
    "collapsed": true
   },
   "outputs": [],
   "source": [
    "plt.plot(ratings_matrix)\n",
    "plt.show()"
   ]
  },
  {
   "cell_type": "markdown",
   "metadata": {},
   "source": [
    "Now that we have our matrix, we need to apply the correlation method as stupilated above. To do that, We pick randomly a book and try to find out wich books are simular to it. let pick the second top rated book especially because of its average rating of 4.46, the Lovely Bones: A Novel. First we pick its ISBN from the matrix, secondly we apply the method corrwith() that will compute the correlation between the book The lovely bones with the remainder of books in the matrix, and finaly as the function will return a list of ISBN, we need to look for every ISBN its corresponding book from the dataset (table) books. Let's go on!"
   ]
  },
  {
   "cell_type": "code",
   "execution_count": 23,
   "metadata": {
    "collapsed": true
   },
   "outputs": [],
   "source": [
    "\"\"\" As we have the matrix, we can now developp the pearson's correlation method that tkes as in put a given book, then \n",
    "display the correlation between the given book and others from the matrix\"\"\"\n",
    "def correlation(lovely_bone_ratings):\n",
    "    # correlate books from the matrix with the book lovely Bones: The Novel\n",
    "    books_like_lovely_bones = ratings_matrix.corrwith(lovely_bone_ratings)\n",
    "    # print the correlated of overy book with the book Lovely Bones\n",
    "    corr_lovely_bones = pd.DataFrame(books_like_lovely_bones, columns=['Correlation']) \n",
    "    # drop rows of pandas whose value in certain columns are NaN\n",
    "    corr_lovely_bones.dropna(inplace=True) \n",
    "    corr_summary = corr_lovely_bones.join(ratings_mean_count['rating_counts'])\n",
    "    # Keep only book with more than 100 ratings\n",
    "    rr= corr_summary[corr_summary['rating_counts']>=100]\n",
    "    return rr       "
   ]
  },
  {
   "cell_type": "code",
   "execution_count": null,
   "metadata": {
    "collapsed": true
   },
   "outputs": [],
   "source": []
  },
  {
   "cell_type": "code",
   "execution_count": 24,
   "metadata": {
    "collapsed": false
   },
   "outputs": [
    {
     "ename": "NameError",
     "evalue": "name 'ratings_matrix' is not defined",
     "output_type": "error",
     "traceback": [
      "\u001b[0;31m---------------------------------------------------------------------------\u001b[0m",
      "\u001b[0;31mNameError\u001b[0m                                 Traceback (most recent call last)",
      "\u001b[0;32m<ipython-input-24-95cc3f7f31f1>\u001b[0m in \u001b[0;36m<module>\u001b[0;34m()\u001b[0m\n\u001b[1;32m      1\u001b[0m \u001b[0;31m# pick the ISBN of the book Lovely bones: the Novel\u001b[0m\u001b[0;34m\u001b[0m\u001b[0;34m\u001b[0m\u001b[0m\n\u001b[0;32m----> 2\u001b[0;31m \u001b[0mlovely_bone_ratings\u001b[0m \u001b[0;34m=\u001b[0m \u001b[0mratings_matrix\u001b[0m\u001b[0;34m[\u001b[0m\u001b[0;34m'0316666343'\u001b[0m\u001b[0;34m]\u001b[0m\u001b[0;34m\u001b[0m\u001b[0m\n\u001b[0m\u001b[1;32m      3\u001b[0m \u001b[0;31m# call of the methode correlation\u001b[0m\u001b[0;34m\u001b[0m\u001b[0;34m\u001b[0m\u001b[0m\n\u001b[1;32m      4\u001b[0m \u001b[0mcorr_book\u001b[0m\u001b[0;34m=\u001b[0m\u001b[0mcorrelation\u001b[0m\u001b[0;34m(\u001b[0m\u001b[0mlovely_bone_ratings\u001b[0m\u001b[0;34m)\u001b[0m\u001b[0;34m\u001b[0m\u001b[0m\n\u001b[1;32m      5\u001b[0m \u001b[0;31m# display the 10 first rows of the data frame\u001b[0m\u001b[0;34m\u001b[0m\u001b[0;34m\u001b[0m\u001b[0m\n",
      "\u001b[0;31mNameError\u001b[0m: name 'ratings_matrix' is not defined"
     ]
    }
   ],
   "source": [
    "# pick the ISBN of the book Lovely bones: the Novel\n",
    "lovely_bone_ratings = ratings_matrix['0316666343']\n",
    "# call of the method correlation\n",
    "corr_book=correlation(lovely_bone_ratings)\n",
    "# display the 10 first rows of the data frame\n",
    "corr_book.sort_values('Correlation', ascending=False).head(10)\n"
   ]
  },
  {
   "cell_type": "markdown",
   "metadata": {},
   "source": [
    "The above data frame shows how the ISBN of the book Lovely Bones is correlated with the remainder of books from the matrix. It shows also the number of rating of books."
   ]
  },
  {
   "cell_type": "code",
   "execution_count": 30,
   "metadata": {
    "collapsed": false
   },
   "outputs": [
    {
     "data": {
      "text/html": [
       "<div>\n",
       "<table border=\"1\" class=\"dataframe\">\n",
       "  <thead>\n",
       "    <tr style=\"text-align: right;\">\n",
       "      <th></th>\n",
       "      <th>ISBN</th>\n",
       "      <th>bookTitle</th>\n",
       "      <th>bookAuthor</th>\n",
       "      <th>yearOfPublication</th>\n",
       "      <th>publisher</th>\n",
       "      <th>imageUrlS</th>\n",
       "      <th>imageUrlM</th>\n",
       "      <th>imageUrlL</th>\n",
       "    </tr>\n",
       "  </thead>\n",
       "  <tbody>\n",
       "    <tr>\n",
       "      <th>0</th>\n",
       "      <td>0312291639</td>\n",
       "      <td>The Nanny Diaries: A Novel</td>\n",
       "      <td>Emma McLaughlin</td>\n",
       "      <td>2003</td>\n",
       "      <td>St. Martin's Griffin</td>\n",
       "      <td>http://images.amazon.com/images/P/0312291639.0...</td>\n",
       "      <td>http://images.amazon.com/images/P/0312291639.0...</td>\n",
       "      <td>http://images.amazon.com/images/P/0312291639.0...</td>\n",
       "    </tr>\n",
       "    <tr>\n",
       "      <th>1</th>\n",
       "      <td>0316601950</td>\n",
       "      <td>The Pilot's Wife : A Novel</td>\n",
       "      <td>Anita Shreve</td>\n",
       "      <td>1999</td>\n",
       "      <td>Back Bay Books</td>\n",
       "      <td>http://images.amazon.com/images/P/0316601950.0...</td>\n",
       "      <td>http://images.amazon.com/images/P/0316601950.0...</td>\n",
       "      <td>http://images.amazon.com/images/P/0316601950.0...</td>\n",
       "    </tr>\n",
       "    <tr>\n",
       "      <th>2</th>\n",
       "      <td>0446610038</td>\n",
       "      <td>1st to Die: A Novel</td>\n",
       "      <td>James Patterson</td>\n",
       "      <td>2002</td>\n",
       "      <td>Warner Vision</td>\n",
       "      <td>http://images.amazon.com/images/P/0446610038.0...</td>\n",
       "      <td>http://images.amazon.com/images/P/0446610038.0...</td>\n",
       "      <td>http://images.amazon.com/images/P/0446610038.0...</td>\n",
       "    </tr>\n",
       "    <tr>\n",
       "      <th>3</th>\n",
       "      <td>0446672211</td>\n",
       "      <td>Where the Heart Is (Oprah's Book Club (Paperba...</td>\n",
       "      <td>Billie Letts</td>\n",
       "      <td>1998</td>\n",
       "      <td>Warner Books</td>\n",
       "      <td>http://images.amazon.com/images/P/0446672211.0...</td>\n",
       "      <td>http://images.amazon.com/images/P/0446672211.0...</td>\n",
       "      <td>http://images.amazon.com/images/P/0446672211.0...</td>\n",
       "    </tr>\n",
       "    <tr>\n",
       "      <th>4</th>\n",
       "      <td>0385265700</td>\n",
       "      <td>The Book of Ruth (Oprah's Book Club (Paperback))</td>\n",
       "      <td>Jane Hamilton</td>\n",
       "      <td>1990</td>\n",
       "      <td>Anchor</td>\n",
       "      <td>http://images.amazon.com/images/P/0385265700.0...</td>\n",
       "      <td>http://images.amazon.com/images/P/0385265700.0...</td>\n",
       "      <td>http://images.amazon.com/images/P/0385265700.0...</td>\n",
       "    </tr>\n",
       "  </tbody>\n",
       "</table>\n",
       "</div>"
      ],
      "text/plain": [
       "         ISBN                                          bookTitle  \\\n",
       "0  0312291639                         The Nanny Diaries: A Novel   \n",
       "1  0316601950                         The Pilot's Wife : A Novel   \n",
       "2  0446610038                                1st to Die: A Novel   \n",
       "3  0446672211  Where the Heart Is (Oprah's Book Club (Paperba...   \n",
       "4  0385265700   The Book of Ruth (Oprah's Book Club (Paperback))   \n",
       "\n",
       "        bookAuthor yearOfPublication             publisher  \\\n",
       "0  Emma McLaughlin              2003  St. Martin's Griffin   \n",
       "1     Anita Shreve              1999        Back Bay Books   \n",
       "2  James Patterson              2002         Warner Vision   \n",
       "3     Billie Letts              1998          Warner Books   \n",
       "4    Jane Hamilton              1990                Anchor   \n",
       "\n",
       "                                           imageUrlS  \\\n",
       "0  http://images.amazon.com/images/P/0312291639.0...   \n",
       "1  http://images.amazon.com/images/P/0316601950.0...   \n",
       "2  http://images.amazon.com/images/P/0446610038.0...   \n",
       "3  http://images.amazon.com/images/P/0446672211.0...   \n",
       "4  http://images.amazon.com/images/P/0385265700.0...   \n",
       "\n",
       "                                           imageUrlM  \\\n",
       "0  http://images.amazon.com/images/P/0312291639.0...   \n",
       "1  http://images.amazon.com/images/P/0316601950.0...   \n",
       "2  http://images.amazon.com/images/P/0446610038.0...   \n",
       "3  http://images.amazon.com/images/P/0446672211.0...   \n",
       "4  http://images.amazon.com/images/P/0385265700.0...   \n",
       "\n",
       "                                           imageUrlL  \n",
       "0  http://images.amazon.com/images/P/0312291639.0...  \n",
       "1  http://images.amazon.com/images/P/0316601950.0...  \n",
       "2  http://images.amazon.com/images/P/0446610038.0...  \n",
       "3  http://images.amazon.com/images/P/0446672211.0...  \n",
       "4  http://images.amazon.com/images/P/0385265700.0...  "
      ]
     },
     "execution_count": 30,
     "metadata": {},
     "output_type": "execute_result"
    }
   ],
   "source": [
    "\"\"\" Here we just pick each ISBN and find its corresponding variable\"\"\"\n",
    "#The following function merges books_corr_to_bones data frame  with the books table, in order to identify the corresponding book for every ISBN.\n",
    "import numpy as np\n",
    "def book_title(list_ISBN ):   \n",
    "# create a new pandas dataframe with five first ISBN from corr_summary\n",
    "    books_corr_to_levely_bones = pd.DataFrame(list_ISBN, index=np.arange(5), columns=['ISBN'])\n",
    "    corr_books_title = pd.merge(books_corr_to_levely_bones, books, on='ISBN')\n",
    "    return corr_books_title\n",
    "\n",
    "\n",
    "\n",
    "# define a list of ISBN\n",
    "list_ISBN = ['0312291639', '0316601950', '0446610038', '0446672211','0385265700']\n",
    "# call of the function book_title\n",
    "book_title(list_ISBN )"
   ]
  },
  {
   "cell_type": "markdown",
   "metadata": {
    "collapsed": true
   },
   "source": [
    "# Recommender system based on collaboration filtering using k-Nearest Neighbors machine learning algorithm "
   ]
  },
  {
   "cell_type": "code",
   "execution_count": 27,
   "metadata": {
    "collapsed": false
   },
   "outputs": [],
   "source": [
    "\"\"\" The second algorithm we are going to use for building a recommender system is based on a machine learning algorithm called K-nearest neighbours. \n",
    "The algorithm is going to find clusters of similar users based on common book rating. Basically we'll learn about euclidean distance and figure out which books are the most similar for a given book. \n",
    "Predictions are made using the average rating of top-k nearest neighbours. To do so, we are going to combine books table with ratings table in order to find the most popular books in the first step. The second step consists of filter data in order to keep only users from USA and CANADA.\n",
    "This will help to avoid the problem of memory error. \n",
    "The third step consists of create a two dimensional matrix that will help to implement the k-Nearest Neighbours algorithm. \"\"\"\n",
    "# find the most popular books \n",
    "def combine():\n",
    "    \n",
    "    combine_book = pd.merge(ratings, books, on='ISBN')\n",
    "    # select colomns to drop frame the created data frame\n",
    "    columns = ['yearOfPublication', 'publisher', 'bookAuthor', 'imageUrlS', 'imageUrlM', 'imageUrlL']\n",
    "    #drop colums in the new datframe\n",
    "    combine_book = combine_book.drop(columns, axis=1)\n",
    "    \n",
    "    return combine_book\n",
    "combine_book=combine()"
   ]
  },
  {
   "cell_type": "code",
   "execution_count": 28,
   "metadata": {
    "collapsed": false
   },
   "outputs": [
    {
     "data": {
      "text/html": [
       "<div>\n",
       "<table border=\"1\" class=\"dataframe\">\n",
       "  <thead>\n",
       "    <tr style=\"text-align: right;\">\n",
       "      <th></th>\n",
       "      <th>userID</th>\n",
       "      <th>ISBN</th>\n",
       "      <th>bookRating</th>\n",
       "      <th>bookTitle</th>\n",
       "    </tr>\n",
       "  </thead>\n",
       "  <tbody>\n",
       "    <tr>\n",
       "      <th>0</th>\n",
       "      <td>277427</td>\n",
       "      <td>002542730X</td>\n",
       "      <td>10</td>\n",
       "      <td>Politically Correct Bedtime Stories: Modern Ta...</td>\n",
       "    </tr>\n",
       "    <tr>\n",
       "      <th>1</th>\n",
       "      <td>3363</td>\n",
       "      <td>002542730X</td>\n",
       "      <td>0</td>\n",
       "      <td>Politically Correct Bedtime Stories: Modern Ta...</td>\n",
       "    </tr>\n",
       "    <tr>\n",
       "      <th>2</th>\n",
       "      <td>11676</td>\n",
       "      <td>002542730X</td>\n",
       "      <td>6</td>\n",
       "      <td>Politically Correct Bedtime Stories: Modern Ta...</td>\n",
       "    </tr>\n",
       "    <tr>\n",
       "      <th>3</th>\n",
       "      <td>12538</td>\n",
       "      <td>002542730X</td>\n",
       "      <td>10</td>\n",
       "      <td>Politically Correct Bedtime Stories: Modern Ta...</td>\n",
       "    </tr>\n",
       "    <tr>\n",
       "      <th>4</th>\n",
       "      <td>13552</td>\n",
       "      <td>002542730X</td>\n",
       "      <td>0</td>\n",
       "      <td>Politically Correct Bedtime Stories: Modern Ta...</td>\n",
       "    </tr>\n",
       "  </tbody>\n",
       "</table>\n",
       "</div>"
      ],
      "text/plain": [
       "   userID        ISBN  bookRating  \\\n",
       "0  277427  002542730X          10   \n",
       "1    3363  002542730X           0   \n",
       "2   11676  002542730X           6   \n",
       "3   12538  002542730X          10   \n",
       "4   13552  002542730X           0   \n",
       "\n",
       "                                           bookTitle  \n",
       "0  Politically Correct Bedtime Stories: Modern Ta...  \n",
       "1  Politically Correct Bedtime Stories: Modern Ta...  \n",
       "2  Politically Correct Bedtime Stories: Modern Ta...  \n",
       "3  Politically Correct Bedtime Stories: Modern Ta...  \n",
       "4  Politically Correct Bedtime Stories: Modern Ta...  "
      ]
     },
     "execution_count": 28,
     "metadata": {},
     "output_type": "execute_result"
    }
   ],
   "source": [
    "combine_book.head()"
   ]
  },
  {
   "cell_type": "code",
   "execution_count": 29,
   "metadata": {
    "collapsed": false
   },
   "outputs": [
    {
     "data": {
      "text/html": [
       "<div>\n",
       "<table border=\"1\" class=\"dataframe\">\n",
       "  <thead>\n",
       "    <tr style=\"text-align: right;\">\n",
       "      <th></th>\n",
       "      <th>bookTitle</th>\n",
       "      <th>totalRatingCount</th>\n",
       "    </tr>\n",
       "  </thead>\n",
       "  <tbody>\n",
       "    <tr>\n",
       "      <th>0</th>\n",
       "      <td>A Light in the Storm: The Civil War Diary of ...</td>\n",
       "      <td>2</td>\n",
       "    </tr>\n",
       "    <tr>\n",
       "      <th>1</th>\n",
       "      <td>Always Have Popsicles</td>\n",
       "      <td>1</td>\n",
       "    </tr>\n",
       "    <tr>\n",
       "      <th>2</th>\n",
       "      <td>Apple Magic (The Collector's series)</td>\n",
       "      <td>1</td>\n",
       "    </tr>\n",
       "    <tr>\n",
       "      <th>3</th>\n",
       "      <td>Beyond IBM: Leadership Marketing and Finance ...</td>\n",
       "      <td>1</td>\n",
       "    </tr>\n",
       "    <tr>\n",
       "      <th>4</th>\n",
       "      <td>Clifford Visita El Hospital (Clifford El Gran...</td>\n",
       "      <td>1</td>\n",
       "    </tr>\n",
       "  </tbody>\n",
       "</table>\n",
       "</div>"
      ],
      "text/plain": [
       "                                           bookTitle  totalRatingCount\n",
       "0   A Light in the Storm: The Civil War Diary of ...                 2\n",
       "1                              Always Have Popsicles                 1\n",
       "2               Apple Magic (The Collector's series)                 1\n",
       "3   Beyond IBM: Leadership Marketing and Finance ...                 1\n",
       "4   Clifford Visita El Hospital (Clifford El Gran...                 1"
      ]
     },
     "execution_count": 29,
     "metadata": {},
     "output_type": "execute_result"
    }
   ],
   "source": [
    "# groupe book by title and create a new column that count the number of rating\n",
    "def group_book_by_title(combine_book):\n",
    "    # get rid of the column bookTitle\n",
    "    combine_book = combine_book.dropna(axis = 0, subset = ['bookTitle'])\n",
    "    # count bookRating and create a new column totalRatingCount\n",
    "    book_rating_count = (combine_book.groupby(by = ['bookTitle'])['bookRating'].count().reset_index().rename(columns = {'bookRating': 'totalRatingCount'})[['bookTitle', 'totalRatingCount']])\n",
    "    return book_rating_count\n",
    "book_rating_count=group_book_by_title(combine_book)\n",
    "book_rating_count.head()"
   ]
  },
  {
   "cell_type": "code",
   "execution_count": 30,
   "metadata": {
    "collapsed": false
   },
   "outputs": [
    {
     "data": {
      "text/html": [
       "<div>\n",
       "<table border=\"1\" class=\"dataframe\">\n",
       "  <thead>\n",
       "    <tr style=\"text-align: right;\">\n",
       "      <th></th>\n",
       "      <th>userID</th>\n",
       "      <th>ISBN</th>\n",
       "      <th>bookRating</th>\n",
       "      <th>bookTitle</th>\n",
       "      <th>totalRatingCount</th>\n",
       "    </tr>\n",
       "  </thead>\n",
       "  <tbody>\n",
       "    <tr>\n",
       "      <th>0</th>\n",
       "      <td>277427</td>\n",
       "      <td>002542730X</td>\n",
       "      <td>10</td>\n",
       "      <td>Politically Correct Bedtime Stories: Modern Ta...</td>\n",
       "      <td>82</td>\n",
       "    </tr>\n",
       "    <tr>\n",
       "      <th>1</th>\n",
       "      <td>3363</td>\n",
       "      <td>002542730X</td>\n",
       "      <td>0</td>\n",
       "      <td>Politically Correct Bedtime Stories: Modern Ta...</td>\n",
       "      <td>82</td>\n",
       "    </tr>\n",
       "    <tr>\n",
       "      <th>2</th>\n",
       "      <td>11676</td>\n",
       "      <td>002542730X</td>\n",
       "      <td>6</td>\n",
       "      <td>Politically Correct Bedtime Stories: Modern Ta...</td>\n",
       "      <td>82</td>\n",
       "    </tr>\n",
       "    <tr>\n",
       "      <th>3</th>\n",
       "      <td>12538</td>\n",
       "      <td>002542730X</td>\n",
       "      <td>10</td>\n",
       "      <td>Politically Correct Bedtime Stories: Modern Ta...</td>\n",
       "      <td>82</td>\n",
       "    </tr>\n",
       "    <tr>\n",
       "      <th>4</th>\n",
       "      <td>13552</td>\n",
       "      <td>002542730X</td>\n",
       "      <td>0</td>\n",
       "      <td>Politically Correct Bedtime Stories: Modern Ta...</td>\n",
       "      <td>82</td>\n",
       "    </tr>\n",
       "  </tbody>\n",
       "</table>\n",
       "</div>"
      ],
      "text/plain": [
       "   userID        ISBN  bookRating  \\\n",
       "0  277427  002542730X          10   \n",
       "1    3363  002542730X           0   \n",
       "2   11676  002542730X           6   \n",
       "3   12538  002542730X          10   \n",
       "4   13552  002542730X           0   \n",
       "\n",
       "                                           bookTitle  totalRatingCount  \n",
       "0  Politically Correct Bedtime Stories: Modern Ta...                82  \n",
       "1  Politically Correct Bedtime Stories: Modern Ta...                82  \n",
       "2  Politically Correct Bedtime Stories: Modern Ta...                82  \n",
       "3  Politically Correct Bedtime Stories: Modern Ta...                82  \n",
       "4  Politically Correct Bedtime Stories: Modern Ta...                82  "
      ]
     },
     "execution_count": 30,
     "metadata": {},
     "output_type": "execute_result"
    }
   ],
   "source": [
    "\"\"\" As we are looking for the most popular book rating, \n",
    "we need to combine rating data with total rating count data in order to filter out lesser-known books\"\"\"\n",
    "def most_popular_book(combine_book):\n",
    "    # combine book rating and total rating count\n",
    "    rating_with_totalRatingCount = combine_book.merge(book_rating_count, left_on = 'bookTitle', right_on = 'bookTitle', how = 'left')\n",
    "    return rating_with_totalRatingCount\n",
    "\n",
    "rating_with_totalRatingCount= most_popular_book(combine_book) \n",
    "rating_with_totalRatingCount.head()"
   ]
  },
  {
   "cell_type": "code",
   "execution_count": 31,
   "metadata": {
    "collapsed": false
   },
   "outputs": [
    {
     "data": {
      "text/html": [
       "<div>\n",
       "<table border=\"1\" class=\"dataframe\">\n",
       "  <thead>\n",
       "    <tr style=\"text-align: right;\">\n",
       "      <th></th>\n",
       "      <th>userID</th>\n",
       "      <th>ISBN</th>\n",
       "      <th>bookRating</th>\n",
       "      <th>bookTitle</th>\n",
       "      <th>totalRatingCount</th>\n",
       "    </tr>\n",
       "  </thead>\n",
       "  <tbody>\n",
       "    <tr>\n",
       "      <th>0</th>\n",
       "      <td>277427</td>\n",
       "      <td>002542730X</td>\n",
       "      <td>10</td>\n",
       "      <td>Politically Correct Bedtime Stories: Modern Ta...</td>\n",
       "      <td>82</td>\n",
       "    </tr>\n",
       "    <tr>\n",
       "      <th>1</th>\n",
       "      <td>3363</td>\n",
       "      <td>002542730X</td>\n",
       "      <td>0</td>\n",
       "      <td>Politically Correct Bedtime Stories: Modern Ta...</td>\n",
       "      <td>82</td>\n",
       "    </tr>\n",
       "    <tr>\n",
       "      <th>2</th>\n",
       "      <td>11676</td>\n",
       "      <td>002542730X</td>\n",
       "      <td>6</td>\n",
       "      <td>Politically Correct Bedtime Stories: Modern Ta...</td>\n",
       "      <td>82</td>\n",
       "    </tr>\n",
       "    <tr>\n",
       "      <th>3</th>\n",
       "      <td>12538</td>\n",
       "      <td>002542730X</td>\n",
       "      <td>10</td>\n",
       "      <td>Politically Correct Bedtime Stories: Modern Ta...</td>\n",
       "      <td>82</td>\n",
       "    </tr>\n",
       "    <tr>\n",
       "      <th>4</th>\n",
       "      <td>13552</td>\n",
       "      <td>002542730X</td>\n",
       "      <td>0</td>\n",
       "      <td>Politically Correct Bedtime Stories: Modern Ta...</td>\n",
       "      <td>82</td>\n",
       "    </tr>\n",
       "  </tbody>\n",
       "</table>\n",
       "</div>"
      ],
      "text/plain": [
       "   userID        ISBN  bookRating  \\\n",
       "0  277427  002542730X          10   \n",
       "1    3363  002542730X           0   \n",
       "2   11676  002542730X           6   \n",
       "3   12538  002542730X          10   \n",
       "4   13552  002542730X           0   \n",
       "\n",
       "                                           bookTitle  totalRatingCount  \n",
       "0  Politically Correct Bedtime Stories: Modern Ta...                82  \n",
       "1  Politically Correct Bedtime Stories: Modern Ta...                82  \n",
       "2  Politically Correct Bedtime Stories: Modern Ta...                82  \n",
       "3  Politically Correct Bedtime Stories: Modern Ta...                82  \n",
       "4  Politically Correct Bedtime Stories: Modern Ta...                82  "
      ]
     },
     "execution_count": 31,
     "metadata": {},
     "output_type": "execute_result"
    }
   ],
   "source": [
    "\"\"\" The following function get rid of books with total rating less than 50\"\"\"\n",
    "# filter books with rating less than 50.\n",
    "def limit_number_of_rating(rating_with_totalRatingCount):\n",
    "    popularity_threshold = 50\n",
    "    rating_popular_book = rating_with_totalRatingCount.query('totalRatingCount >= @popularity_threshold')\n",
    "    return rating_popular_book\n",
    "\n",
    "rating_popular_book=limit_number_of_rating(rating_with_totalRatingCount)\n",
    "rating_popular_book.head()"
   ]
  },
  {
   "cell_type": "markdown",
   "metadata": {},
   "source": [
    "Now that we have every thing, we need to reduce data by keeping only user from US and Canada. And then combine user data with the rating data and total rating count data."
   ]
  },
  {
   "cell_type": "code",
   "execution_count": 32,
   "metadata": {
    "collapsed": false
   },
   "outputs": [
    {
     "data": {
      "text/html": [
       "<div>\n",
       "<table border=\"1\" class=\"dataframe\">\n",
       "  <thead>\n",
       "    <tr style=\"text-align: right;\">\n",
       "      <th></th>\n",
       "      <th>userID</th>\n",
       "      <th>ISBN</th>\n",
       "      <th>bookRating</th>\n",
       "      <th>bookTitle</th>\n",
       "      <th>totalRatingCount</th>\n",
       "      <th>Location</th>\n",
       "    </tr>\n",
       "  </thead>\n",
       "  <tbody>\n",
       "    <tr>\n",
       "      <th>0</th>\n",
       "      <td>277427</td>\n",
       "      <td>002542730X</td>\n",
       "      <td>10</td>\n",
       "      <td>Politically Correct Bedtime Stories: Modern Ta...</td>\n",
       "      <td>82</td>\n",
       "      <td>gilbert, arizona, usa</td>\n",
       "    </tr>\n",
       "    <tr>\n",
       "      <th>1</th>\n",
       "      <td>3363</td>\n",
       "      <td>002542730X</td>\n",
       "      <td>0</td>\n",
       "      <td>Politically Correct Bedtime Stories: Modern Ta...</td>\n",
       "      <td>82</td>\n",
       "      <td>knoxville, tennessee, usa</td>\n",
       "    </tr>\n",
       "    <tr>\n",
       "      <th>3</th>\n",
       "      <td>12538</td>\n",
       "      <td>002542730X</td>\n",
       "      <td>10</td>\n",
       "      <td>Politically Correct Bedtime Stories: Modern Ta...</td>\n",
       "      <td>82</td>\n",
       "      <td>byron, minnesota, usa</td>\n",
       "    </tr>\n",
       "    <tr>\n",
       "      <th>4</th>\n",
       "      <td>13552</td>\n",
       "      <td>002542730X</td>\n",
       "      <td>0</td>\n",
       "      <td>Politically Correct Bedtime Stories: Modern Ta...</td>\n",
       "      <td>82</td>\n",
       "      <td>cordova, tennessee, usa</td>\n",
       "    </tr>\n",
       "    <tr>\n",
       "      <th>5</th>\n",
       "      <td>16795</td>\n",
       "      <td>002542730X</td>\n",
       "      <td>0</td>\n",
       "      <td>Politically Correct Bedtime Stories: Modern Ta...</td>\n",
       "      <td>82</td>\n",
       "      <td>mechanicsville, maryland, usa</td>\n",
       "    </tr>\n",
       "  </tbody>\n",
       "</table>\n",
       "</div>"
      ],
      "text/plain": [
       "   userID        ISBN  bookRating  \\\n",
       "0  277427  002542730X          10   \n",
       "1    3363  002542730X           0   \n",
       "3   12538  002542730X          10   \n",
       "4   13552  002542730X           0   \n",
       "5   16795  002542730X           0   \n",
       "\n",
       "                                           bookTitle  totalRatingCount  \\\n",
       "0  Politically Correct Bedtime Stories: Modern Ta...                82   \n",
       "1  Politically Correct Bedtime Stories: Modern Ta...                82   \n",
       "3  Politically Correct Bedtime Stories: Modern Ta...                82   \n",
       "4  Politically Correct Bedtime Stories: Modern Ta...                82   \n",
       "5  Politically Correct Bedtime Stories: Modern Ta...                82   \n",
       "\n",
       "                        Location  \n",
       "0          gilbert, arizona, usa  \n",
       "1      knoxville, tennessee, usa  \n",
       "3          byron, minnesota, usa  \n",
       "4        cordova, tennessee, usa  \n",
       "5  mechanicsville, maryland, usa  "
      ]
     },
     "execution_count": 32,
     "metadata": {},
     "output_type": "execute_result"
    }
   ],
   "source": [
    "def filter_user(rating_popular_book):\n",
    "    \n",
    "    combined = rating_popular_book.merge(users, left_on = 'userID', right_on = 'userID', how = 'left')\n",
    "\n",
    "    us_canada_user_rating = combined[combined['Location'].str.contains(\"usa|canada\")]\n",
    "    us_canada_user_rating=us_canada_user_rating.drop('Age', axis=1)\n",
    "    return us_canada_user_rating\n",
    "\n",
    "user_from_us_canada_rating=filter_user(rating_popular_book)\n",
    "user_from_us_canada_rating.head()"
   ]
  },
  {
   "cell_type": "markdown",
   "metadata": {},
   "source": [
    "To implement KNN, we need to convert user_from_us_canada_rating into a 2 dimensionnel matrix. In the matrix we will fill the missing values with $0$. Then we transform the rating of the matrix into a scipy sparse matrix."
   ]
  },
  {
   "cell_type": "code",
   "execution_count": 33,
   "metadata": {
    "collapsed": false
   },
   "outputs": [
    {
     "data": {
      "text/plain": [
       "NearestNeighbors(algorithm='brute', leaf_size=30, metric='cosine',\n",
       "         metric_params=None, n_jobs=1, n_neighbors=5, p=2, radius=1.0)"
      ]
     },
     "execution_count": 33,
     "metadata": {},
     "output_type": "execute_result"
    }
   ],
   "source": [
    "from scipy.sparse import csr_matrix\n",
    "from sklearn.neighbors import NearestNeighbors\n",
    "def convert_table_to_matrix(user_from_us_canada_rating):\n",
    "    # get rid of duplicated data\n",
    "    user_from_us_canada_rating = user_from_us_canada_rating.drop_duplicates(['userID', 'bookTitle'])\n",
    "    #pivot the table into a matrix\n",
    "    us_canada_user_rating_pivot = user_from_us_canada_rating.pivot(index = 'bookTitle', columns = 'userID', values = 'bookRating').fillna(0)\n",
    "    us_canada_user_rating_matrix = csr_matrix(us_canada_user_rating_pivot.values)\n",
    "    return us_canada_user_rating_matrix,us_canada_user_rating_pivot\n",
    "\n",
    "us_canada_user_rating_matrix,us_canada_user_rating_pivot=convert_table_to_matrix(user_from_us_canada_rating)\n",
    "model_knn = NearestNeighbors(metric = 'cosine', algorithm = 'brute')\n",
    "model_knn.fit(us_canada_user_rating_matrix)"
   ]
  },
  {
   "cell_type": "markdown",
   "metadata": {},
   "source": [
    "The kNN algorithm measures distance to determine the “closeness” of vectors. It then classifies a vector by finding its nearest neighbors, and picks the most popular class among the neighbors. The following code pick randomly a book, and find out its nearest neighbors by computing the distance between them. Here  n_neighbors = 7."
   ]
  },
  {
   "cell_type": "code",
   "execution_count": 38,
   "metadata": {
    "collapsed": false
   },
   "outputs": [
    {
     "name": "stdout",
     "output_type": "stream",
     "text": [
      "Recommendations for  Engaging The Enemy:\n",
      "\n",
      "1: Table For Two, with distance of 0.5336176453611992:\n",
      "2: Truly, Madly Manhattan, with distance of 0.5917828594984483:\n",
      "3: Message from Nam, with distance of 0.6228212410739596:\n",
      "4: Summer Pleasures, with distance of 0.6419934967946633:\n",
      "5: Jewels of the Sun (Irish Trilogy), with distance of 0.6463250483898633:\n",
      "6: Key of Light (Key Trilogy (Paperback)), with distance of 0.6546282560501684:\n"
     ]
    },
    {
     "name": "stderr",
     "output_type": "stream",
     "text": [
      "/usr/lib/python3/dist-packages/ipykernel/__main__.py:5: FutureWarning: reshape is deprecated and will raise in a subsequent release. Please use .values.reshape(...) instead\n"
     ]
    }
   ],
   "source": [
    "# making recommendation by choosing randomly books\n",
    "import numpy as np\n",
    "query_index = np.random.choice(us_canada_user_rating_pivot.shape[0])\n",
    "# compute the distance between vectors with the numbers of neighbors = 7\n",
    "distances, indices = model_knn.kneighbors(us_canada_user_rating_pivot.iloc[query_index, :].reshape(1, -1), n_neighbors = 7)\n",
    "\n",
    "for i in range(0, len(distances.flatten())):\n",
    "    if i == 0:\n",
    "        print('Recommendations for  {0}:\\n'.format(us_canada_user_rating_pivot.index[query_index]))\n",
    "    else:\n",
    "        print('{0}: {1}, with distance of {2}:'.format(i, us_canada_user_rating_pivot.index[indices.flatten()[i]], distances.flatten()[i]))"
   ]
  },
  {
   "cell_type": "markdown",
   "metadata": {
    "collapsed": true
   },
   "source": [
    "# Thank you"
   ]
  },
  {
   "cell_type": "code",
   "execution_count": null,
   "metadata": {
    "collapsed": true
   },
   "outputs": [],
   "source": []
  }
 ],
 "metadata": {
  "kernelspec": {
   "display_name": "Python 3",
   "language": "python",
   "name": "python3"
  },
  "language_info": {
   "codemirror_mode": {
    "name": "ipython",
    "version": 3
   },
   "file_extension": ".py",
   "mimetype": "text/x-python",
   "name": "python",
   "nbconvert_exporter": "python",
   "pygments_lexer": "ipython3",
   "version": "3.5.3"
  }
 },
 "nbformat": 4,
 "nbformat_minor": 2
}
